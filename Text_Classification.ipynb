{
 "cells": [
  {
   "cell_type": "markdown",
   "metadata": {},
   "source": [
    "## Imports"
   ]
  },
  {
   "cell_type": "code",
   "execution_count": 22,
   "metadata": {},
   "outputs": [],
   "source": [
    "import numpy as np\n",
    "import pandas as pd\n",
    "from sklearn.datasets import fetch_20newsgroups\n",
    "from sklearn.feature_extraction.text import CountVectorizer, TfidfTransformer\n",
    "from sklearn.linear_model import SGDClassifier\n",
    "from sklearn.svm import LinearSVC\n",
    "from sklearn.naive_bayes import MultinomialNB\n",
    "from sklearn.linear_model import Perceptron\n",
    "from sklearn.linear_model import LogisticRegression\n",
    "from sklearn.pipeline import Pipeline\n",
    "from sklearn.model_selection import GridSearchCV\n",
    "from sklearn import metrics\n",
    "from tqdm import tqdm"
   ]
  },
  {
   "cell_type": "markdown",
   "metadata": {},
   "source": [
    "## Classifiers & Features\n",
    "Final classifiers not decided yet"
   ]
  },
  {
   "cell_type": "code",
   "execution_count": 47,
   "metadata": {},
   "outputs": [],
   "source": [
    "classifiers = {'lg': LogisticRegression(), 'nb': MultinomialNB(), 'sgdc': SGDClassifier()}\n",
    "features = {'count': None, 'tf': TfidfTransformer(use_idf=False), 'tfidf': TfidfTransformer()}"
   ]
  },
  {
   "cell_type": "markdown",
   "metadata": {},
   "source": [
    "## Sets of parameters for Grid Search"
   ]
  },
  {
   "cell_type": "code",
   "execution_count": 75,
   "metadata": {},
   "outputs": [],
   "source": [
    "parameters = [\n",
    "            {\n",
    "                'vect__lowercase': (True, False),\n",
    "            },\n",
    "            {\n",
    "                'vect__stop_words': (None, 'english'),\n",
    "            },\n",
    "            {\n",
    "                'vect__analyzer': ['word'],\n",
    "                'vect__ngram_range': [(1, 1), (1, 2), (2, 2)],\n",
    "            },\n",
    "            {\n",
    "                'vect__analyzer': ['char'],\n",
    "                'vect__ngram_range': [(1,4), (2,2), (2,3)]\n",
    "            },\n",
    "            {\n",
    "                'vect__max_features': (1000, 5000, 10000)\n",
    "            }\n",
    "]"
   ]
  },
  {
   "cell_type": "code",
   "execution_count": 76,
   "metadata": {},
   "outputs": [],
   "source": [
    "hyperparameters = {\n",
    "                  \"lg\": {\n",
    "                              \"clf__random_state\": [1, 2],\n",
    "                              \"clf__max_iter\": [100, 500, 1000]\n",
    "                        },\n",
    "                  \"nb\": {\n",
    "                              \"clf__alpha\": [0.0001, 0.001, 0.01, 0.1, 1]\n",
    "                        },\n",
    "                  \"sgdc\": {\n",
    "                              \"clf__alpha\": [0.0001, 0.001, 0.01, 0.1, 1]\n",
    "                          }\n",
    "                  }"
   ]
  },
  {
   "cell_type": "markdown",
   "metadata": {},
   "source": [
    "## Combinations of pipelines"
   ]
  },
  {
   "cell_type": "code",
   "execution_count": 77,
   "metadata": {},
   "outputs": [],
   "source": [
    "def build_pipelines(classifiers: dict, features: dict):\n",
    "    pipelines = {}\n",
    "    for clf_key in classifiers.keys():\n",
    "        for feat_key in features.keys():\n",
    "            clf = classifiers.get(clf_key)\n",
    "            feat = features.get(feat_key)\n",
    "            pipe = Pipeline([\n",
    "                            ('vect', CountVectorizer()),\n",
    "                            ('tfidf', feat),\n",
    "                            ('clf', clf)\n",
    "            ])\n",
    "            pipelines[(clf_key, feat_key)] = pipe\n",
    "    return pipelines"
   ]
  },
  {
   "cell_type": "markdown",
   "metadata": {},
   "source": [
    "## Load train and test data"
   ]
  },
  {
   "cell_type": "code",
   "execution_count": 78,
   "metadata": {},
   "outputs": [],
   "source": [
    "twenty_train = fetch_20newsgroups(subset='train', shuffle=True, random_state=42)\n",
    "twenty_test = fetch_20newsgroups(subset='test', shuffle=True, random_state=42)"
   ]
  },
  {
   "cell_type": "code",
   "execution_count": 79,
   "metadata": {},
   "outputs": [],
   "source": [
    "pipelines = build_pipelines(classifiers=classifiers, features=features)"
   ]
  },
  {
   "cell_type": "markdown",
   "metadata": {},
   "source": [
    "## First Experiment\n",
    "Test with all the default settings, each classifier with each of the parameters. No parameters"
   ]
  },
  {
   "cell_type": "code",
   "execution_count": null,
   "metadata": {},
   "outputs": [],
   "source": [
    "all_mean_acc = []\n",
    "all_prf = []\n",
    "all_conf = []\n",
    "classifiers = []\n",
    "features = []\n",
    "\n",
    "for i in tqdm(range(len(pipelines.values()))):\n",
    "    pipelines[i].fit(twenty_train.data, twenty_train.target)\n",
    "    predicted = pipelines[i].predict(twenty_test.data)\n",
    "\n",
    "    # mean accuracy\n",
    "    mean_acc = np.mean(predicted == twenty_test.target)\n",
    "    all_mean_acc.append(mean_acc)\n",
    "\n",
    "    # precision, recall, f1 score\n",
    "    prf = metrics.precision_recall_fscore_support(twenty_test.target, predicted, average='weighted')\n",
    "    all_prf.append(prf)\n",
    "\n",
    "    conf_matrix = metrics.confusion_matrix(twenty_test.target, predicted)\n",
    "    all_conf.append(conf_matrix)\n",
    "\n",
    "    classifiers.append(str(pipelines[i].named_steps['clf']))\n",
    "    feat = pipelines[i].named_steps['tfidf']\n",
    "    if feat is None:\n",
    "      feat = \"Counts\"\n",
    "    features.append(str(feat))\n",
    "\n",
    "df_data = {\"Classifier\": classifiers,\n",
    "            \"Features\": features,\n",
    "            \"Mean Accuracy\": all_mean_acc\n",
    "          }\n",
    "results = pd.DataFrame(df_data)\n",
    "prf_df = pd.DataFrame(all_prf, columns=[\"Precision\", \"Recall\", \"F1\", \"_\"]).drop(columns=['_'])\n",
    "results.merge(prf_df, left_index=True, right_index=True)\n"
   ]
  },
  {
   "cell_type": "code",
   "execution_count": 38,
   "metadata": {},
   "outputs": [],
   "source": [
    "results.to_csv('results/experiment_default.csv', index=False)"
   ]
  },
  {
   "cell_type": "markdown",
   "metadata": {},
   "source": [
    "## Hyperparameter Tuning on Pipelines"
   ]
  },
  {
   "cell_type": "code",
   "execution_count": null,
   "metadata": {},
   "outputs": [],
   "source": [
    "all_mean_acc = []\n",
    "all_prf = []\n",
    "best_pipelines = []\n",
    "best_params = []\n",
    "classifier_names = []\n",
    "feature_names = []\n",
    "all_cv_results = []\n",
    "for key, pipe in tqdm(pipelines.items()):\n",
    "    parameter_set = hyperparameters[key[0]]\n",
    "\n",
    "    gs_clf = GridSearchCV(pipe, parameter_set, cv=5, n_jobs=-1)\n",
    "    gs_clf.fit(twenty_train.data, twenty_train.target)\n",
    "    predicted = gs_clf.predict(twenty_test.data)\n",
    "\n",
    "    all_cv_results.append(gs_clf.cv_results_)\n",
    "    \n",
    "    mean_acc = np.mean(predicted == twenty_test.target)\n",
    "    all_mean_acc.append(mean_acc)\n",
    "    prf = metrics.precision_recall_fscore_support(twenty_test.target, predicted, average='weighted')\n",
    "    all_prf.append(prf)\n",
    "\n",
    "    best_estimator = gs_clf.best_estimator_\n",
    "    best_pipelines.append(best_estimator)\n",
    "\n",
    "    best_param = gs_clf.best_params_\n",
    "    best_params.append(best_param)\n",
    "\n",
    "    classifier_names.append(str(best_estimator.named_steps['clf']))\n",
    "    feature_names.append(str(best_estimator.named_steps['tfidf']))"
   ]
  },
  {
   "cell_type": "code",
   "execution_count": 101,
   "metadata": {},
   "outputs": [
    {
     "data": {
      "text/html": [
       "<div>\n",
       "<style scoped>\n",
       "    .dataframe tbody tr th:only-of-type {\n",
       "        vertical-align: middle;\n",
       "    }\n",
       "\n",
       "    .dataframe tbody tr th {\n",
       "        vertical-align: top;\n",
       "    }\n",
       "\n",
       "    .dataframe thead th {\n",
       "        text-align: right;\n",
       "    }\n",
       "</style>\n",
       "<table border=\"1\" class=\"dataframe\">\n",
       "  <thead>\n",
       "    <tr style=\"text-align: right;\">\n",
       "      <th></th>\n",
       "      <th>Classifier</th>\n",
       "      <th>Features</th>\n",
       "      <th>Best Parameters</th>\n",
       "      <th>Mean Accuracy</th>\n",
       "    </tr>\n",
       "  </thead>\n",
       "  <tbody>\n",
       "    <tr>\n",
       "      <th>0</th>\n",
       "      <td>LogisticRegression(random_state=1)</td>\n",
       "      <td>None</td>\n",
       "      <td>{'clf__max_iter': 100, 'clf__random_state': 1}</td>\n",
       "      <td>0.792087</td>\n",
       "    </tr>\n",
       "    <tr>\n",
       "      <th>1</th>\n",
       "      <td>LogisticRegression(random_state=1)</td>\n",
       "      <td>TfidfTransformer(use_idf=False)</td>\n",
       "      <td>{'clf__max_iter': 100, 'clf__random_state': 1}</td>\n",
       "      <td>0.726633</td>\n",
       "    </tr>\n",
       "    <tr>\n",
       "      <th>2</th>\n",
       "      <td>LogisticRegression(random_state=1)</td>\n",
       "      <td>TfidfTransformer()</td>\n",
       "      <td>{'clf__max_iter': 100, 'clf__random_state': 1}</td>\n",
       "      <td>0.827403</td>\n",
       "    </tr>\n",
       "    <tr>\n",
       "      <th>3</th>\n",
       "      <td>MultinomialNB(alpha=0.0001)</td>\n",
       "      <td>None</td>\n",
       "      <td>{'clf__alpha': 0.0001}</td>\n",
       "      <td>0.796601</td>\n",
       "    </tr>\n",
       "    <tr>\n",
       "      <th>4</th>\n",
       "      <td>MultinomialNB(alpha=0.001)</td>\n",
       "      <td>TfidfTransformer(use_idf=False)</td>\n",
       "      <td>{'clf__alpha': 0.001}</td>\n",
       "      <td>0.832714</td>\n",
       "    </tr>\n",
       "    <tr>\n",
       "      <th>5</th>\n",
       "      <td>MultinomialNB(alpha=0.01)</td>\n",
       "      <td>TfidfTransformer()</td>\n",
       "      <td>{'clf__alpha': 0.01}</td>\n",
       "      <td>0.835236</td>\n",
       "    </tr>\n",
       "    <tr>\n",
       "      <th>6</th>\n",
       "      <td>SGDClassifier(alpha=0.01)</td>\n",
       "      <td>None</td>\n",
       "      <td>{'clf__alpha': 0.01}</td>\n",
       "      <td>0.807223</td>\n",
       "    </tr>\n",
       "    <tr>\n",
       "      <th>7</th>\n",
       "      <td>SGDClassifier()</td>\n",
       "      <td>TfidfTransformer(use_idf=False)</td>\n",
       "      <td>{'clf__alpha': 0.0001}</td>\n",
       "      <td>0.810542</td>\n",
       "    </tr>\n",
       "    <tr>\n",
       "      <th>8</th>\n",
       "      <td>SGDClassifier()</td>\n",
       "      <td>TfidfTransformer()</td>\n",
       "      <td>{'clf__alpha': 0.0001}</td>\n",
       "      <td>0.853956</td>\n",
       "    </tr>\n",
       "  </tbody>\n",
       "</table>\n",
       "</div>"
      ],
      "text/plain": [
       "                           Classifier                         Features  \\\n",
       "0  LogisticRegression(random_state=1)                             None   \n",
       "1  LogisticRegression(random_state=1)  TfidfTransformer(use_idf=False)   \n",
       "2  LogisticRegression(random_state=1)               TfidfTransformer()   \n",
       "3         MultinomialNB(alpha=0.0001)                             None   \n",
       "4          MultinomialNB(alpha=0.001)  TfidfTransformer(use_idf=False)   \n",
       "5           MultinomialNB(alpha=0.01)               TfidfTransformer()   \n",
       "6           SGDClassifier(alpha=0.01)                             None   \n",
       "7                     SGDClassifier()  TfidfTransformer(use_idf=False)   \n",
       "8                     SGDClassifier()               TfidfTransformer()   \n",
       "\n",
       "                                  Best Parameters  Mean Accuracy  \n",
       "0  {'clf__max_iter': 100, 'clf__random_state': 1}       0.792087  \n",
       "1  {'clf__max_iter': 100, 'clf__random_state': 1}       0.726633  \n",
       "2  {'clf__max_iter': 100, 'clf__random_state': 1}       0.827403  \n",
       "3                          {'clf__alpha': 0.0001}       0.796601  \n",
       "4                           {'clf__alpha': 0.001}       0.832714  \n",
       "5                            {'clf__alpha': 0.01}       0.835236  \n",
       "6                            {'clf__alpha': 0.01}       0.807223  \n",
       "7                          {'clf__alpha': 0.0001}       0.810542  \n",
       "8                          {'clf__alpha': 0.0001}       0.853956  "
      ]
     },
     "execution_count": 101,
     "metadata": {},
     "output_type": "execute_result"
    }
   ],
   "source": [
    "df_data = {\"Classifier\": classifier_names,\n",
    "            \"Features\": feature_names,\n",
    "            \"Best Parameters\": best_params,\n",
    "            \"Mean Accuracy\": all_mean_acc\n",
    "          }\n",
    "results_exp2 = pd.DataFrame(df_data)\n",
    "prf_df = pd.DataFrame(all_prf, columns=[\"Precision\", \"Recall\", \"F1\", \"_\"]).drop(columns=['_'])\n",
    "results_exp2.merge(prf_df, left_index=True, right_index=True)\n",
    "results_exp2.to_csv('results/experiment2.csv')\n",
    "results_exp2"
   ]
  },
  {
   "cell_type": "markdown",
   "metadata": {},
   "source": [
    "## Third Experiment: Vectorizer Parameters\n",
    "Uses best estimators from previous experiment"
   ]
  },
  {
   "cell_type": "code",
   "execution_count": null,
   "metadata": {},
   "outputs": [],
   "source": [
    "prf_params = []\n",
    "mean_acc_params = []\n",
    "classifier_names = []\n",
    "feature_names = []\n",
    "vect_params = []\n",
    "\n",
    "for p in tqdm(range(len(best_pipelines))):\n",
    "    for params in parameters:\n",
    "        gs_clf = GridSearchCV(best_pipelines[p], params, cv=5, n_jobs=-1)\n",
    "        gs_clf.fit(twenty_train.data, twenty_train.target)\n",
    "        predicted = gs_clf.predict(twenty_test.data)\n",
    "\n",
    "        mean_acc = np.mean(predicted == twenty_test.target)\n",
    "        mean_acc_params.append(mean_acc)\n",
    "        prf = metrics.precision_recall_fscore_support(twenty_test.target, predicted, average='weighted')\n",
    "        prf_params.append(prf)\n",
    "\n",
    "        vect_params.append(gs_clf.best_params_)\n",
    "        classifier_names.append(str(best_estimator.named_steps['clf']))\n",
    "        feature_names.append(str(best_estimator.named_steps['tfidf']))"
   ]
  },
  {
   "cell_type": "code",
   "execution_count": null,
   "metadata": {},
   "outputs": [],
   "source": [
    "df_data = {\"Classifier\": classifier_names,\n",
    "            \"Features\": feature_names,\n",
    "            \"Vectorizer Parameters\": vect_params,\n",
    "            \"Mean Accuracy\": mean_acc_params\n",
    "          }\n",
    "results_exp3 = pd.DataFrame(df_data)\n",
    "prf_params_df = pd.DataFrame(prf_params, columns=[\"Precision\", \"Recall\", \"F1\", \"_\"]).drop(columns=['_'])\n",
    "results_exp3.merge(prf_params_df, left_index=True, right_index=True)\n",
    "results_exp3.to_csv('results/experiment3.csv')"
   ]
  }
 ],
 "metadata": {
  "kernelspec": {
   "display_name": "Python 3.9.13",
   "language": "python",
   "name": "python3"
  },
  "language_info": {
   "codemirror_mode": {
    "name": "ipython",
    "version": 3
   },
   "file_extension": ".py",
   "mimetype": "text/x-python",
   "name": "python",
   "nbconvert_exporter": "python",
   "pygments_lexer": "ipython3",
   "version": "3.9.13"
  },
  "orig_nbformat": 4,
  "vscode": {
   "interpreter": {
    "hash": "13df7030f0a293fc7b224c8674413bb1891143c2877d2001af36e74cd2d7cc9c"
   }
  }
 },
 "nbformat": 4,
 "nbformat_minor": 2
}
