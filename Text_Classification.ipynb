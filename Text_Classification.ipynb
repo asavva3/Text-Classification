{
 "cells": [
  {
   "cell_type": "markdown",
   "metadata": {},
   "source": [
    "## Imports"
   ]
  },
  {
   "cell_type": "code",
   "execution_count": null,
   "metadata": {},
   "outputs": [],
   "source": [
    "import numpy as np\n",
    "from sklearn.datasets import fetch_20newsgroups\n",
    "from sklearn.feature_extraction.text import CountVectorizer, TfidfTransformer\n",
    "from sklearn.linear_model import SGDClassifier\n",
    "from sklearn.naive_bayes import MultinomialNB\n",
    "from sklearn.linear_model import Perceptron\n",
    "from sklearn.pipeline import Pipeline\n",
    "from sklearn.model_selection import GridSearchCV\n",
    "from sklearn import metrics\n",
    "from tqdm import tqdm"
   ]
  },
  {
   "cell_type": "markdown",
   "metadata": {},
   "source": [
    "## Classifiers & Features\n",
    "Final classifiers not decided yet"
   ]
  },
  {
   "cell_type": "code",
   "execution_count": null,
   "metadata": {},
   "outputs": [],
   "source": [
    "classifiers = {'perceptron': Perceptron(), 'naive_bayes': MultinomialNB(), 'sgdc': SGDClassifier()}\n",
    "features = {'count': None, 'tf': TfidfTransformer(use_idf=False), 'tfidf': TfidfTransformer()}"
   ]
  },
  {
   "cell_type": "markdown",
   "metadata": {},
   "source": [
    "## Sets of parameters for Grid Search\n",
    "Split into 3, because we need ngram for word and character"
   ]
  },
  {
   "cell_type": "code",
   "execution_count": null,
   "metadata": {},
   "outputs": [],
   "source": [
    "parameters = [\n",
    "            {\n",
    "                'vect__lowercase': (True, False),\n",
    "                'vect__stop_words': (None, 'english'),\n",
    "                'vect__max_features': (1000, 5000, 10000)\n",
    "            },\n",
    "            {\n",
    "                'vect__lowercase': (True, False),\n",
    "                'vect__stop_words': (None, 'english'),\n",
    "                'vect__analyzer': ['word'],\n",
    "                'vect__ngram_range': [(1, 1), (1, 2), (2, 2)],\n",
    "                'vect__max_features': (1000, 5000, 10000)\n",
    "            },\n",
    "            {\n",
    "                'vect__lowercase': (True, False),\n",
    "                'vect__stop_words': (None, 'english'),\n",
    "                'vect__analyzer': ['char'],\n",
    "                'vect__ngram_range': [(1, 2), (1, 3), (1, 4)],\n",
    "                'vect__max_features': (1000, 5000, 10000)\n",
    "            }\n",
    "]"
   ]
  },
  {
   "cell_type": "markdown",
   "metadata": {},
   "source": [
    "## Combinations of pipelines"
   ]
  },
  {
   "cell_type": "code",
   "execution_count": null,
   "metadata": {},
   "outputs": [],
   "source": [
    "def build_pipelines(classifiers: dict, features: dict):\n",
    "    pipelines = []\n",
    "    for clf in classifiers.values():\n",
    "        for feat in features.values():\n",
    "            pipe = Pipeline([\n",
    "                            ('vect', CountVectorizer()),\n",
    "                            ('tfidf', feat),\n",
    "                            ('clf', clf)\n",
    "            ])\n",
    "            pipelines.append(pipe)\n",
    "    return pipelines"
   ]
  },
  {
   "cell_type": "markdown",
   "metadata": {},
   "source": [
    "## Load train and test data"
   ]
  },
  {
   "cell_type": "code",
   "execution_count": null,
   "metadata": {},
   "outputs": [],
   "source": [
    "twenty_train = fetch_20newsgroups(subset='train', shuffle=True, random_state=42)\n",
    "twenty_test = fetch_20newsgroups(subset='test', shuffle=True, random_state=42)"
   ]
  },
  {
   "cell_type": "code",
   "execution_count": null,
   "metadata": {},
   "outputs": [],
   "source": [
    "pipelines = build_pipelines(classifiers=classifiers, features=features)"
   ]
  },
  {
   "cell_type": "markdown",
   "metadata": {},
   "source": [
    "## Test for time (No need to run)\n",
    "Just a small test to see how much time it takes for only the first pipeline created with all the parameters to run .fit()</br>\n",
    "First parameter set: 29.36s</br>\n",
    "Second parameter set: 141.29s</br>\n",
    "Third parameter set: 668.34s</br>\n",
    "Total run time: 13m 59s"
   ]
  },
  {
   "cell_type": "code",
   "execution_count": null,
   "metadata": {},
   "outputs": [],
   "source": [
    "import time\n",
    "for params in parameters:\n",
    "    gs = GridSearchCV(pipelines[0], params, cv=5, n_jobs=-1)\n",
    "    start_time = time.time()\n",
    "    gs = gs.fit(twenty_train.data, twenty_train.target)\n",
    "    end_time = time.time()\n",
    "    total_time = end_time - start_time\n",
    "    print(\"Current parameters\", params)\n",
    "    print(f\"Total runtime is {total_time}\")"
   ]
  },
  {
   "cell_type": "markdown",
   "metadata": {},
   "source": [
    "## First Experiment\n",
    "Test with all the default settings, each classifier with each of the parameters. No parameters"
   ]
  },
  {
   "cell_type": "code",
   "execution_count": null,
   "metadata": {},
   "outputs": [],
   "source": [
    "all_mean_acc = []\n",
    "all_prf = []\n",
    "\n",
    "for i in tqdm(range(len(pipelines))):\n",
    "    pipelines[i].fit(twenty_train.data, twenty_train.target)\n",
    "    predictions = pipelines[i].predict(twenty_test.data)\n",
    "\n",
    "    # mean accuracy\n",
    "    mean_acc = np.mean(predictions == twenty_test.target)\n",
    "    all_mean_acc.append(mean_acc)\n",
    "\n",
    "    # precision, recall, f1 score\n",
    "    prf = metrics.precision_recall_fscore_support(twenty_test.target, predictions, average='weighted')\n",
    "    all_prf.append(prf)\n",
    "\n",
    "    # do we need more metrics? For example: metrics.classification_report which gives for each class f1, precision & recall?"
   ]
  },
  {
   "cell_type": "markdown",
   "metadata": {},
   "source": [
    "## Second Experiment: All combinations with all parameters\n",
    "Needs more code to gather results each time"
   ]
  },
  {
   "cell_type": "code",
   "execution_count": null,
   "metadata": {},
   "outputs": [],
   "source": [
    "for pipe in tqdm(range(len(pipelines))):\n",
    "    for params in parameters:\n",
    "        gs_clf = GridSearchCV(pipelines[pipe], params, cv=5, n_jobs=-1)\n",
    "        gs_clf = gs_clf.fit(twenty_train.data, twenty_train.target)"
   ]
  }
 ],
 "metadata": {
  "kernelspec": {
   "display_name": "Python 3.9.13",
   "language": "python",
   "name": "python3"
  },
  "language_info": {
   "codemirror_mode": {
    "name": "ipython",
    "version": 3
   },
   "file_extension": ".py",
   "mimetype": "text/x-python",
   "name": "python",
   "nbconvert_exporter": "python",
   "pygments_lexer": "ipython3",
   "version": "3.9.13"
  },
  "orig_nbformat": 4,
  "vscode": {
   "interpreter": {
    "hash": "13df7030f0a293fc7b224c8674413bb1891143c2877d2001af36e74cd2d7cc9c"
   }
  }
 },
 "nbformat": 4,
 "nbformat_minor": 2
}
