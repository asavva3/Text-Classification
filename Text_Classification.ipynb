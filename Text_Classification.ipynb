{
 "cells": [
  {
   "cell_type": "markdown",
   "metadata": {},
   "source": [
    "## Imports"
   ]
  },
  {
   "cell_type": "code",
   "execution_count": null,
   "metadata": {},
   "outputs": [],
   "source": [
    "import numpy as np\n",
    "import pandas as pd\n",
    "from sklearn.datasets import fetch_20newsgroups\n",
    "from sklearn.feature_extraction.text import CountVectorizer, TfidfTransformer\n",
    "from sklearn.linear_model import SGDClassifier\n",
    "from sklearn.svm import LinearSVC\n",
    "from sklearn.naive_bayes import MultinomialNB\n",
    "from sklearn.linear_model import Perceptron\n",
    "from sklearn.linear_model import LogisticRegression\n",
    "from sklearn.neighbors import KNeighborsClassifier\n",
    "from sklearn.pipeline import Pipeline\n",
    "from sklearn.model_selection import GridSearchCV\n",
    "from sklearn import metrics\n",
    "from tqdm import tqdm"
   ]
  },
  {
   "cell_type": "markdown",
   "metadata": {},
   "source": [
    "## Load train and test data"
   ]
  },
  {
   "cell_type": "code",
   "execution_count": null,
   "metadata": {},
   "outputs": [],
   "source": [
    "twenty_train = fetch_20newsgroups(subset='train', shuffle=True, random_state=42)\n",
    "twenty_test = fetch_20newsgroups(subset='test', shuffle=True, random_state=42)"
   ]
  },
  {
   "cell_type": "markdown",
   "metadata": {},
   "source": [
    "## Classifiers & Features"
   ]
  },
  {
   "cell_type": "code",
   "execution_count": null,
   "metadata": {},
   "outputs": [],
   "source": [
    "classifiers = {'knn': KNeighborsClassifier(), 'nb': MultinomialNB(), 'sgdc': SGDClassifier()}\n",
    "features = {'counts': None, 'tf': TfidfTransformer(use_idf=False), 'tfidf': TfidfTransformer()}"
   ]
  },
  {
   "cell_type": "markdown",
   "metadata": {},
   "source": [
    "## Sets of parameters for Grid Search"
   ]
  },
  {
   "cell_type": "code",
   "execution_count": null,
   "metadata": {},
   "outputs": [],
   "source": [
    "parameters = [\n",
    "            {\n",
    "                'vect__lowercase': (True, False),\n",
    "            },\n",
    "            {\n",
    "                'vect__stop_words': (None, 'english'),\n",
    "            },\n",
    "            {\n",
    "                'vect__analyzer': ['word'],\n",
    "                'vect__ngram_range': [(1, 1), (1, 2), (2, 2)],\n",
    "            },\n",
    "            {\n",
    "                'vect__analyzer': ['char'],\n",
    "                'vect__ngram_range': [(2, 2), (3, 3), (4, 4)]\n",
    "            },\n",
    "            {\n",
    "                'vect__max_features': (1000, 5000, 10000)\n",
    "            }\n",
    "]"
   ]
  },
  {
   "cell_type": "code",
   "execution_count": null,
   "metadata": {},
   "outputs": [],
   "source": [
    "doc_root_knn = int(np.sqrt(len(twenty_train.data)))\n",
    "half_root_knn = int(doc_root_knn / 2)\n",
    "hyperparameters = {\n",
    "                  \"knn\": {\n",
    "                              \"clf__n_neighbors\": [5, 11, 21, half_root_knn, doc_root_knn]\n",
    "                        },\n",
    "                  \"nb\": {\n",
    "                              \"clf__alpha\": [0.0001, 0.001, 0.01, 0.1, 1]\n",
    "                        },\n",
    "                  \"sgdc\": {\n",
    "                              \"clf__alpha\": [0.0001, 0.001, 0.01, 0.1, 1]\n",
    "                          }\n",
    "                  }"
   ]
  },
  {
   "cell_type": "markdown",
   "metadata": {},
   "source": [
    "## Combinations of pipelines"
   ]
  },
  {
   "cell_type": "code",
   "execution_count": null,
   "metadata": {},
   "outputs": [],
   "source": [
    "def build_pipelines(classifiers: dict, features: dict):\n",
    "    pipelines = {}\n",
    "    for clf_key in classifiers.keys():\n",
    "        for feat_key in features.keys():\n",
    "            clf = classifiers.get(clf_key)\n",
    "            feat = features.get(feat_key)\n",
    "            pipe = Pipeline([\n",
    "                            ('vect', CountVectorizer()),\n",
    "                            ('tfidf', feat),\n",
    "                            ('clf', clf)\n",
    "            ])\n",
    "            pipelines[(clf_key, feat_key)] = pipe\n",
    "    return pipelines"
   ]
  },
  {
   "cell_type": "code",
   "execution_count": null,
   "metadata": {},
   "outputs": [],
   "source": [
    "pipelines = build_pipelines(classifiers=classifiers, features=features)"
   ]
  },
  {
   "cell_type": "markdown",
   "metadata": {},
   "source": [
    "## First Experiment\n",
    "Test with all the default settings, each classifier with each of the parameters. No parameters"
   ]
  },
  {
   "cell_type": "code",
   "execution_count": null,
   "metadata": {},
   "outputs": [],
   "source": [
    "all_mean_acc = []\n",
    "all_prf = []\n",
    "all_conf = []\n",
    "classifiers = []\n",
    "features = []\n",
    "\n",
    "for key, pipe in tqdm(pipelines.items()):\n",
    "    pipe.fit(twenty_train.data, twenty_train.target)\n",
    "    predicted = pipe.predict(twenty_test.data)\n",
    "\n",
    "    # mean accuracy\n",
    "    mean_acc = np.mean(predicted == twenty_test.target)\n",
    "    all_mean_acc.append(mean_acc)\n",
    "\n",
    "    # precision, recall, f1 score\n",
    "    prf = metrics.precision_recall_fscore_support(twenty_test.target, predicted, average='weighted')\n",
    "    all_prf.append(prf)\n",
    "\n",
    "    conf_matrix = metrics.confusion_matrix(twenty_test.target, predicted)\n",
    "    all_conf.append(conf_matrix)\n",
    "\n",
    "    classifiers.append(key[0])\n",
    "    features.append(key[1])\n",
    "\n",
    "df_data = {\"Classifier\": classifiers,\n",
    "            \"Features\": features,\n",
    "            \"Mean Accuracy\": all_mean_acc\n",
    "          }\n",
    "results = pd.DataFrame(df_data)\n",
    "prf_df = pd.DataFrame(all_prf, columns=[\"Precision\", \"Recall\", \"F1\", \"_\"]).drop(columns=['_'])\n",
    "results = results.merge(prf_df, left_index=True, right_index=True)\n",
    "results = results.round(3)\n",
    "results.to_csv('results/experiment_default_knn.csv', index=False)\n",
    "results\n"
   ]
  },
  {
   "cell_type": "markdown",
   "metadata": {},
   "source": [
    "## Hyperparameter Tuning on Pipelines"
   ]
  },
  {
   "cell_type": "code",
   "execution_count": null,
   "metadata": {},
   "outputs": [],
   "source": [
    "all_mean_acc = []\n",
    "all_prf_hyper = []\n",
    "best_pipelines = {}\n",
    "best_params = []\n",
    "classifier_names = []\n",
    "feature_names = []\n",
    "all_cv_results = []\n",
    "for key, pipe in tqdm(pipelines.items()):\n",
    "    parameter_set = hyperparameters[key[0]]\n",
    "\n",
    "    gs_clf = GridSearchCV(pipe, parameter_set, cv=5, n_jobs=-1)\n",
    "    gs_clf.fit(twenty_train.data, twenty_train.target)\n",
    "    predicted = gs_clf.predict(twenty_test.data)\n",
    "\n",
    "    all_cv_results.append(gs_clf.cv_results_)\n",
    "    \n",
    "    mean_acc = np.mean(predicted == twenty_test.target)\n",
    "    all_mean_acc.append(mean_acc)\n",
    "    prf = metrics.precision_recall_fscore_support(twenty_test.target, predicted, average='weighted')\n",
    "    all_prf_hyper.append(prf)\n",
    "\n",
    "    best_estimator = gs_clf.best_estimator_\n",
    "    best_pipelines[key] = best_estimator\n",
    "    # best_pipelines.append(best_estimator)\n",
    "\n",
    "    best_param = gs_clf.best_params_\n",
    "    best_params.append(best_param)\n",
    "\n",
    "    classifier_names.append(key[0])\n",
    "    feature_names.append(key[1])\n",
    "    \n",
    "df_data = {\"Classifier\": classifier_names,\n",
    "    \"Features\": feature_names,\n",
    "    \"Best Parameters\": best_params,\n",
    "    \"Mean Accuracy\": all_mean_acc\n",
    "    }\n",
    "results_exp2 = pd.DataFrame(df_data)\n",
    "prf_hyper_df = pd.DataFrame(all_prf_hyper, columns=[\"Precision\", \"Recall\", \"F1\", \"_\"]).drop(columns=['_'])\n",
    "results_exp2 = results_exp2.merge(prf_hyper_df, left_index=True, right_index=True)\n",
    "results_exp2 = results_exp2.round(3)\n",
    "results_exp2.to_csv('results/experiment2_knn.csv')\n",
    "results_exp2"
   ]
  },
  {
   "cell_type": "markdown",
   "metadata": {},
   "source": [
    "## Third Experiment: Vectorizer Parameters\n",
    "Uses best estimators from previous experiment"
   ]
  },
  {
   "cell_type": "code",
   "execution_count": null,
   "metadata": {},
   "outputs": [],
   "source": [
    "prf_params = []\n",
    "mean_acc_params = []\n",
    "classifier_names = []\n",
    "feature_names = []\n",
    "vect_params = []\n",
    "\n",
    "all_cv_results_params = []\n",
    "\n",
    "for key, pipe in tqdm(best_pipelines.items()):\n",
    "    for params in parameters:\n",
    "        gs_clf = GridSearchCV(pipe, params, cv=5, n_jobs=-1)\n",
    "        gs_clf.fit(twenty_train.data, twenty_train.target)\n",
    "        predicted = gs_clf.predict(twenty_test.data)\n",
    "\n",
    "        mean_acc = np.mean(predicted == twenty_test.target)\n",
    "        mean_acc_params.append(mean_acc)\n",
    "        prf = metrics.precision_recall_fscore_support(twenty_test.target, predicted, average='weighted')\n",
    "        prf_params.append(prf)\n",
    "\n",
    "        vect_params.append(gs_clf.best_params_)\n",
    "        best_estimator = gs_clf.best_estimator_\n",
    "        classifier_names.append(key[0])\n",
    "        feature_names.append(key[1])\n",
    "\n",
    "        all_cv_results_params.append(gs_clf.cv_results_)\n",
    "\n",
    "df_data = {\"Classifier\": classifier_names,\n",
    "            \"Features\": feature_names,\n",
    "            \"Vectorizer Parameters\": vect_params,\n",
    "            \"Mean Accuracy\": mean_acc_params\n",
    "          }\n",
    "results_exp3 = pd.DataFrame(df_data)\n",
    "prf_params_df = pd.DataFrame(prf_params, columns=[\"Precision\", \"Recall\", \"F1\", \"_\"]).drop(columns=['_'])\n",
    "results_exp3 = results_exp3.merge(prf_params_df, left_index=True, right_index=True)\n",
    "results_exp3 = results_exp3.round(3)\n",
    "results_exp3.to_csv('results/experiment3_knn.csv')\n",
    "results_exp3"
   ]
  }
 ],
 "metadata": {
  "kernelspec": {
   "display_name": "Python 3.9.13",
   "language": "python",
   "name": "python3"
  },
  "language_info": {
   "codemirror_mode": {
    "name": "ipython",
    "version": 3
   },
   "file_extension": ".py",
   "mimetype": "text/x-python",
   "name": "python",
   "nbconvert_exporter": "python",
   "pygments_lexer": "ipython3",
   "version": "3.9.13"
  },
  "orig_nbformat": 4,
  "vscode": {
   "interpreter": {
    "hash": "13df7030f0a293fc7b224c8674413bb1891143c2877d2001af36e74cd2d7cc9c"
   }
  }
 },
 "nbformat": 4,
 "nbformat_minor": 2
}
